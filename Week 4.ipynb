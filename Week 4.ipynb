{
    "cells": [
        {
            "cell_type": "markdown",
            "metadata": {
                "collapsed": true
            },
            "source": "# Capstone Project - The Battle of Neighborhoods in Tokyo"
        },
        {
            "cell_type": "markdown",
            "metadata": {},
            "source": "# Cologne City Vegetarian Food Choice"
        },
        {
            "cell_type": "markdown",
            "metadata": {},
            "source": "**Introduction/Business problem**"
        },
        {
            "cell_type": "markdown",
            "metadata": {},
            "source": "Cologne, the city the author lives in, attracts a large number of tourists, not least due to its famous cathedral. Germany, where the city is situated, is not well known for vegetarian food. In the contrary, typical German dishes include a lot of meat. So, for tourists who prefer to eat vegetarian for reasons such as religion, health and others, finding the right spot to eat in Cologne might be difficult. Thus, the problem I want to solve is to give a simple recommendation to tourists in Cologne: in which district of the city will you find the highest number of vegetarian restaurants?"
        },
        {
            "cell_type": "markdown",
            "metadata": {},
            "source": "**Description of the data**"
        },
        {
            "cell_type": "markdown",
            "metadata": {},
            "source": "I will, as requested by the assignment task, use foursquare data about restaurants in Cologne. Here is an example of a vegetarian restaurant in Cologne on foursquare: https://de.foursquare.com/v/sattgr%C3%BCn/5c33306cc824ae002c2b414c Also, I will use the overview of districts/city parts of Cologne from Wikipedia: https://en.wikipedia.org/wiki/Districts_of_Cologne"
        },
        {
            "cell_type": "code",
            "execution_count": null,
            "metadata": {},
            "outputs": [],
            "source": ""
        },
        {
            "cell_type": "code",
            "execution_count": null,
            "metadata": {},
            "outputs": [],
            "source": ""
        }
    ],
    "metadata": {
        "kernelspec": {
            "display_name": "Python 3.6",
            "language": "python",
            "name": "python3"
        },
        "language_info": {
            "codemirror_mode": {
                "name": "ipython",
                "version": 3
            },
            "file_extension": ".py",
            "mimetype": "text/x-python",
            "name": "python",
            "nbconvert_exporter": "python",
            "pygments_lexer": "ipython3",
            "version": "3.6.9"
        }
    },
    "nbformat": 4,
    "nbformat_minor": 1
}